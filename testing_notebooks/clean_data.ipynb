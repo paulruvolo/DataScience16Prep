{
 "cells": [
  {
   "cell_type": "markdown",
   "metadata": {},
   "source": [
    "## This cleans the data"
   ]
  },
  {
   "cell_type": "code",
   "execution_count": 49,
   "metadata": {
    "collapsed": false
   },
   "outputs": [],
   "source": [
    "import pandas as pd\n",
    "\n",
    "titanic_train = pd.read_csv('../datasets/titanic_train.csv')\n",
    "titanic_test = pd.read_csv('../datasets/titanic_test.csv')"
   ]
  },
  {
   "cell_type": "code",
   "execution_count": 50,
   "metadata": {
    "collapsed": true
   },
   "outputs": [],
   "source": [
    "def fill_in_missing_data(df, null_values={}):\n",
    "    \"\"\" Doc string here \"\"\"\n",
    "    # Cabin has almost all missing values and few repeats; we'll just ignore it for now\n",
    "    if 'Cabin' in df.columns:\n",
    "        df = df.drop('Cabin',axis=1)\n",
    "    if 'Ticket' in df.columns:\n",
    "        df = df.drop('Ticket',axis=1)\n",
    "    # this is one of the biggest places for improvement, for now we'll use the mean age\n",
    "    if not 'Age' in null_values:\n",
    "        null_values['Age'] = df.Age.mean()\n",
    "    df.Age = df.Age.fillna(null_values['Age'])\n",
    "    if not 'Embarked' in null_values:\n",
    "        null_values['Embarked'] = df.Embarked.mode()[0]\n",
    "    df.Embarked = df.Embarked.fillna(null_values['Embarked'])\n",
    "    # there is one missing Fare entry in the test set we'll use the training set mean\n",
    "    if not 'Fare' in null_values:\n",
    "        null_values['Fare'] = df.Fare.mean()\n",
    "    df.Fare = df.Fare.fillna(null_values['Fare'])\n",
    "    return df, null_values"
   ]
  },
  {
   "cell_type": "code",
   "execution_count": 51,
   "metadata": {
    "collapsed": false
   },
   "outputs": [
    {
     "name": "stdout",
     "output_type": "stream",
     "text": [
      "<class 'pandas.core.frame.DataFrame'>\n",
      "PassengerId    0\n",
      "Survived       0\n",
      "Pclass         0\n",
      "Name           0\n",
      "Sex            0\n",
      "Age            0\n",
      "SibSp          0\n",
      "Parch          0\n",
      "Fare           0\n",
      "Embarked       0\n",
      "dtype: int64\n",
      "PassengerId    0\n",
      "Pclass         0\n",
      "Name           0\n",
      "Sex            0\n",
      "Age            0\n",
      "SibSp          0\n",
      "Parch          0\n",
      "Fare           0\n",
      "Embarked       0\n",
      "dtype: int64\n"
     ]
    }
   ],
   "source": [
    "print type(titanic_test)\n",
    "titanic_train, null_values = fill_in_missing_data(titanic_train)\n",
    "titanic_test, null_values = fill_in_missing_data(titanic_test, null_values)\n",
    "\n",
    "print titanic_train.isnull().sum()\n",
    "print titanic_test.isnull().sum()\n",
    "\n",
    "# make sure not to do this:\n",
    "# data.sex_coded = data.Sex.apply(lambda x: 1 if x == 'male' else 0)\n",
    "#data['sex_recoded'] = data.Sex.apply(lambda x: 1 if x == 'male' else 0)\n",
    "#data['name_length'] = data.Name.apply(lambda x: len(x))"
   ]
  },
  {
   "cell_type": "code",
   "execution_count": 52,
   "metadata": {
    "collapsed": true
   },
   "outputs": [],
   "source": [
    "def do_recodes(df):\n",
    "    \"\"\" Doc string here \"\"\"\n",
    "    df['sex_recoded'] = df.Sex.apply(lambda x: 1 if x == 'male'else 0)\n",
    "    embarked_dummies = pd.get_dummies(df.Embarked,'embarked')\n",
    "    df = pd.concat((df, embarked_dummies),axis=1)\n",
    "    pclass_dummies = pd.get_dummies(df.Pclass,'pclass')\n",
    "    df = pd.concat((df, pclass_dummies),axis=1)\n",
    "    df['male_child'] = df.apply(lambda f: f.Sex=='male' and f.Age < 10,axis=1)\n",
    "    return df"
   ]
  },
  {
   "cell_type": "code",
   "execution_count": 53,
   "metadata": {
    "collapsed": false
   },
   "outputs": [
    {
     "name": "stdout",
     "output_type": "stream",
     "text": [
      "Index([u'PassengerId', u'Survived', u'Pclass', u'Name', u'Sex', u'Age',\n",
      "       u'SibSp', u'Parch', u'Fare', u'Embarked', u'sex_recoded', u'embarked_C',\n",
      "       u'embarked_Q', u'embarked_S'],\n",
      "      dtype='object')\n",
      "Index([u'PassengerId', u'Pclass', u'Name', u'Sex', u'Age', u'SibSp', u'Parch',\n",
      "       u'Fare', u'Embarked', u'sex_recoded', u'embarked_C', u'embarked_Q',\n",
      "       u'embarked_S'],\n",
      "      dtype='object')\n"
     ]
    }
   ],
   "source": [
    "titanic_train = do_recodes(titanic_train)\n",
    "titanic_test = do_recodes(titanic_test)\n",
    "\n",
    "print titanic_train.columns\n",
    "print titanic_test.columns"
   ]
  },
  {
   "cell_type": "code",
   "execution_count": null,
   "metadata": {
    "collapsed": false
   },
   "outputs": [],
   "source": []
  },
  {
   "cell_type": "code",
   "execution_count": null,
   "metadata": {
    "collapsed": true
   },
   "outputs": [],
   "source": []
  }
 ],
 "metadata": {
  "kernelspec": {
   "display_name": "Python 2",
   "language": "python",
   "name": "python2"
  },
  "language_info": {
   "codemirror_mode": {
    "name": "ipython",
    "version": 2
   },
   "file_extension": ".py",
   "mimetype": "text/x-python",
   "name": "python",
   "nbconvert_exporter": "python",
   "pygments_lexer": "ipython2",
   "version": "2.7.6"
  }
 },
 "nbformat": 4,
 "nbformat_minor": 0
}
